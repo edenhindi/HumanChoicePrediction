{
 "cells": [
  {
   "cell_type": "code",
   "id": "6d796479-916b-464c-9c7b-448306d9e7e9",
   "metadata": {
    "id": "6d796479-916b-464c-9c7b-448306d9e7e9",
    "ExecuteTime": {
     "end_time": "2024-06-13T17:56:13.407909Z",
     "start_time": "2024-06-13T17:56:11.647635Z"
    }
   },
   "source": [
    "import pandas as pd\n",
    "import wandb\n",
    "from tqdm import tqdm\n",
    "import requests\n",
    "import os\n",
    "import numpy as np\n",
    "import matplotlib.pyplot as plt\n",
    "import sklearn\n",
    "from sklearn import metrics\n",
    "import scipy.stats as stats\n",
    "import matplotlib.colors as mcolors\n",
    "from read_wandb import wandb_results\n",
    "import warnings "
   ],
   "outputs": [],
   "execution_count": 2
  },
  {
   "metadata": {
    "ExecuteTime": {
     "end_time": "2024-06-13T17:56:14.429332Z",
     "start_time": "2024-06-13T17:56:14.295819Z"
    }
   },
   "cell_type": "code",
   "source": "!mkdir sweeps_csvs",
   "id": "b364cfd20db76ece",
   "outputs": [
    {
     "name": "stdout",
     "output_type": "stream",
     "text": [
      "mkdir: sweeps_csvs: File exists\r\n"
     ]
    }
   ],
   "execution_count": 3
  },
  {
   "cell_type": "code",
   "id": "a9b533fe-a6ba-45c9-8bac-5da5e1414208",
   "metadata": {
    "id": "a9b533fe-a6ba-45c9-8bac-5da5e1414208",
    "ExecuteTime": {
     "end_time": "2024-06-13T17:56:48.145307Z",
     "start_time": "2024-06-13T17:56:48.137685Z"
    }
   },
   "source": [
    "project_name = 'NLP2024_PROJECT' # enter project name here (change to NLP2024_PROJECT_edenhindi when you run it)\n",
    "username = 'eden-hindi' # enter group name here\n",
    "BASE_METRIC = \"accuracy_per_mean_user_and_bot\"\n",
    "api = wandb_results(project_name, wandb_username=username)"
   ],
   "outputs": [],
   "execution_count": 6
  },
  {
   "metadata": {},
   "cell_type": "markdown",
   "source": "Helper functions",
   "id": "e30134698ca9b07d"
  },
  {
   "metadata": {
    "ExecuteTime": {
     "end_time": "2024-06-13T17:56:49.940145Z",
     "start_time": "2024-06-13T17:56:49.928225Z"
    }
   },
   "cell_type": "code",
   "source": [
    "def get_final_results(df):\n",
    "    epoch_acc = [f'ENV_Test_accuracy_per_mean_user_and_bot_epoch{i}' for i in range(25)]\n",
    "    cols_to_keep = epoch_acc + ['config_learning_rate_gb','config_eps_incorrect','config_seed']\n",
    "    # result = (df[cols_to_keep]\n",
    "    #             .groupby(['config_eps_incorrect','config_learning_rate_gb']).max())[epoch_acc]\n",
    "    results = df[cols_to_keep].set_index(['config_eps_incorrect','config_learning_rate_gb','config_seed']).max(axis=1)\n",
    "    return results.groupby(['config_eps_incorrect','config_learning_rate_gb']).mean()\n",
    "\n",
    "def result_metric(sweeps, group_name, drop_list=[0], drop_HPT=False, metric=BASE_METRIC, epoch=\"best\"):\n",
    "    df = api.get_sweeps_results(sweeps, metric=metric) \n",
    "\n",
    "    config_cols = [c for c in df.columns if \"config_\" in c and c!=\"config_wandb_run_id\" and c!=\"config_online_simulation_size\"]\n",
    "    HPT_cols = [col for col in config_cols if df[col].nunique() > 1]\n",
    "    print(HPT_cols)\n",
    "    if drop_HPT:\n",
    "        df=df.drop([c for c in HPT_cols if not c in [\"config_eps_incorrect\",\"config_learning_rate_gb\", \"config_seed\"]], axis=1)\n",
    "        HPT_cols = [\"config_eps_incorrect\",\"config_learning_rate_gb\", \"config_seed\"]\n",
    "\n",
    "    # Remove non-numeric columns before computing mean and std\n",
    "    numeric_cols = df.select_dtypes(include=np.number).columns\n",
    "    df_numeric = df[numeric_cols]\n",
    "\n",
    "    grouped = df_numeric.groupby([c for c in HPT_cols if c != \"config_seed\"])\n",
    "\n",
    "    mean_df = grouped.mean()\n",
    "    std_df = grouped.std()\n",
    "\n",
    "    # Re-add non-numeric columns before computing best_col\n",
    "    for col in config_cols:\n",
    "        if col not in mean_df.columns:\n",
    "            mean_df[col] = df[col]\n",
    "\n",
    "    if epoch==\"best\":\n",
    "        best_col = mean_df[[c for c in mean_df.columns if (metric in c and metric[-4:] == c.split(\"_epoch\")[0][-4:])]].idxmax(axis=1)\n",
    "    else:\n",
    "        best_col = mean_df[[c for c in mean_df.columns if f\"{metric}_epoch{epoch}\" in c]].idxmax(axis=1)\n",
    "\n",
    "    result = 100*grouped.apply(lambda x: x[best_col.loc[x.name]].values)\n",
    "    means = 100*grouped.apply(lambda x: x[best_col.loc[x.name]].mean())\n",
    "    stds = 100*grouped.apply(lambda x: x[best_col.loc[x.name]].std())\n",
    "\n",
    "\n",
    "    df_cols = {'mean': np.round(means,4), 'std': np.round(stds,4), 'values': result.values}\n",
    "    if epoch == \"best\": df_cols['epoch'] = best_col.apply(lambda x: int(x.split(\"epoch\")[1]) if \"epoch\" in x else \"last\")\n",
    "\n",
    "    df_cols['CI'] = result.apply(lambda x: tuple(round(x,4) for x in bootstrap_ci(x)))\n",
    "\n",
    "    summary_df = pd.DataFrame(df_cols, index=best_col.index)\n",
    "    for d in drop_list:\n",
    "        if d in summary_df.index:\n",
    "            summary_df=summary_df.drop(d)\n",
    "    if len(summary_df.index.names) == 1:\n",
    "        return summary_df.rename_axis(group_name)\n",
    "    else:\n",
    "        return summary_df\n",
    "\n",
    "def bootstrap_ci(data, n_bootstrap=1000, ci=0.95):\n",
    "    bootstrapped_means = []\n",
    "    for _ in range(n_bootstrap):\n",
    "        sample = np.random.choice(data, size=len(data), replace=True)\n",
    "        bootstrapped_means.append(np.mean(sample))\n",
    "    lower_bound = np.percentile(bootstrapped_means, (1 - ci) / 2 * 100)\n",
    "    upper_bound = np.percentile(bootstrapped_means, (1 + ci) / 2 * 100)\n",
    "    return lower_bound, upper_bound\n",
    "\n",
    "def result_metric_test(sweeps, drop_HPT=False, metric=BASE_METRIC):\n",
    "    df = api.get_sweeps_results(sweeps, metric=metric)\n",
    "    config_cols = [c for c in df.columns if\n",
    "                   \"config_\" in c and c != \"config_wandb_run_id\" and c != \"config_online_simulation_size\"]\n",
    "    HPT_cols = [col for col in config_cols if (df[col].nunique() > 1) and (col not in [\"config_input_dim\", \"config_use_user_vector\"])]\n",
    "    if drop_HPT:\n",
    "        df = df.drop([c for c in HPT_cols if not c in [\"config_LLM_SIM_SIZE\", \"config_seed\"]], axis=1)\n",
    "        HPT_cols = [\"config_LLM_SIM_SIZE\", \"config_seed\"]\n",
    "\n",
    "    # dropping all non-numeric columns that are not in the HPT_cols list\n",
    "    drop_names = [c for c in df.columns if\n",
    "                  (c not in HPT_cols) and (c not in [metric, \"epoch\"]) and (df[c].dtype not in [np.number])]\n",
    "    df = df.drop(drop_names, axis=1)\n",
    "    cols = [c for c in df.columns if \"ENV_Test_accuracy_per_mean_user_and_bot_epoch\" in c]\n",
    "    new_df = df[cols]\n",
    "\n",
    "    new_df = new_df.to_numpy()\n",
    "    new_df = np.max(new_df, axis=1)\n",
    "    return {\"mean\": round(100*np.mean(new_df),4), \"Confidence interval\": np.round(100*np.array(bootstrap_ci(new_df)),4)}"
   ],
   "id": "987d6f8a2f0088fa",
   "outputs": [],
   "execution_count": 7
  },
  {
   "metadata": {},
   "cell_type": "markdown",
   "source": "Test Results",
   "id": "294d7aab00e3cbbc"
  },
  {
   "metadata": {
    "ExecuteTime": {
     "end_time": "2024-06-13T17:57:01.276010Z",
     "start_time": "2024-06-13T17:56:55.544399Z"
    }
   },
   "cell_type": "code",
   "source": [
    "sweep_ids = [\"q651v7dc\",\"6nb7in1g\"] #enter sweep id here\n",
    "warnings.filterwarnings(\"ignore\")\n",
    "configurations = [[0.3,0.1],[0.2,0.1]]\n",
    "for sweep, conf in zip(sweep_ids,configurations):\n",
    "    print(f\"Eps {conf[0]} Learning Rate {conf[1]}\")\n",
    "    \n",
    "    print(result_metric_test([sweep],\"learning_rate\",metric=\"accuracy_per_mean_user_and_bot\"))\n",
    "    print(\"\\n\")\n",
    "\n"
   ],
   "id": "wi0JI3JSaMK_",
   "outputs": [
    {
     "name": "stdout",
     "output_type": "stream",
     "text": [
      "Eps 0.3 Learning Rate 0.1\n",
      "Total number of sweeps: 1\n",
      "Download sweep_id='q651v7dc' data...\n",
      "{'mean': 83.7419, 'Confidence interval': array([83.6274, 83.8564])}\n",
      "\n",
      "\n",
      "Eps 0.2 Learning Rate 0.1\n",
      "Total number of sweeps: 1\n",
      "Download sweep_id='6nb7in1g' data...\n",
      "{'mean': 83.6139, 'Confidence interval': array([83.4552, 83.772 ])}\n",
      "\n",
      "\n"
     ]
    }
   ],
   "execution_count": 8
  },
  {
   "metadata": {},
   "cell_type": "markdown",
   "source": "HPT Results",
   "id": "e90d50b5f371f6c9"
  },
  {
   "metadata": {
    "ExecuteTime": {
     "end_time": "2024-06-13T17:57:10.431874Z",
     "start_time": "2024-06-13T17:57:02.917337Z"
    }
   },
   "cell_type": "code",
   "source": [
    "BASE_METRIC = \"accuracy_per_mean_user_and_bot\"\n",
    "sweep_ids = [\"8k21y23j\",\"yv6zhyv3\",\"bhjscedc\",\"paqdt76o\",\"ir4nzq36\",\"z6h1n8mf\",\"1ztqh2s0\",\"2985wxrz\"] #enter sweep id here\n",
    "# df = api.get_sweeps_results(sweep_ids, metric=\"accuracy_per_mean_user_and_bot\")\n",
    "results = result_metric(sweep_ids,\"eps_incorrect\", epoch=\"best\",drop_list=[-1],drop_HPT=False,metric=\"accuracy_per_mean_user_and_bot\")\n",
    "results.drop([\"values\",\"epoch\"],axis=1)"
   ],
   "id": "a4acd7d40f43f0d2",
   "outputs": [
    {
     "name": "stdout",
     "output_type": "stream",
     "text": [
      "Total number of sweeps: 8\n",
      "Download sweep_id='8k21y23j' data...\n",
      "Download sweep_id='yv6zhyv3' data...\n",
      "Download sweep_id='bhjscedc' data...\n",
      "Download sweep_id='paqdt76o' data...\n",
      "Download sweep_id='ir4nzq36' data...\n",
      "Download sweep_id='z6h1n8mf' data...\n",
      "Download sweep_id='1ztqh2s0' data...\n",
      "Download sweep_id='2985wxrz' data...\n",
      "['config_seed', 'config_eps_incorrect', 'config_learning_rate_gb']\n"
     ]
    },
    {
     "data": {
      "text/plain": [
       "                                                 mean     std  \\\n",
       "config_eps_incorrect config_learning_rate_gb                    \n",
       "0.0                  0.02                     79.4657  0.6138   \n",
       "                     0.10                     79.7322  1.2455   \n",
       "                     0.50                     79.7785  0.5472   \n",
       "0.1                  0.02                     79.5465  1.0390   \n",
       "                     0.10                     79.7984  0.6748   \n",
       "                     0.50                     79.3615  0.6846   \n",
       "0.2                  0.02                     79.4516  1.0483   \n",
       "                     0.10                     79.8441  1.0829   \n",
       "                     0.50                     79.5435  0.9113   \n",
       "0.3                  0.02                     79.1722  0.9025   \n",
       "                     0.10                     79.8348  0.6046   \n",
       "                     0.50                     79.6566  0.6866   \n",
       "\n",
       "                                                              CI  \n",
       "config_eps_incorrect config_learning_rate_gb                      \n",
       "0.0                  0.02                      (78.976, 79.9554)  \n",
       "                     0.10                      (78.832, 80.7816)  \n",
       "                     0.50                     (79.3627, 80.2105)  \n",
       "0.1                  0.02                     (78.7213, 80.3053)  \n",
       "                     0.10                     (79.2274, 80.2163)  \n",
       "                     0.50                     (78.8358, 79.8923)  \n",
       "0.2                  0.02                     (78.7786, 80.2922)  \n",
       "                     0.10                     (78.9862, 80.5944)  \n",
       "                     0.50                     (78.8106, 80.2635)  \n",
       "0.3                  0.02                     (78.4719, 79.8976)  \n",
       "                     0.10                     (79.2997, 80.2214)  \n",
       "                     0.50                     (79.0991, 80.1853)  "
      ],
      "text/html": [
       "<div>\n",
       "<style scoped>\n",
       "    .dataframe tbody tr th:only-of-type {\n",
       "        vertical-align: middle;\n",
       "    }\n",
       "\n",
       "    .dataframe tbody tr th {\n",
       "        vertical-align: top;\n",
       "    }\n",
       "\n",
       "    .dataframe thead th {\n",
       "        text-align: right;\n",
       "    }\n",
       "</style>\n",
       "<table border=\"1\" class=\"dataframe\">\n",
       "  <thead>\n",
       "    <tr style=\"text-align: right;\">\n",
       "      <th></th>\n",
       "      <th></th>\n",
       "      <th>mean</th>\n",
       "      <th>std</th>\n",
       "      <th>CI</th>\n",
       "    </tr>\n",
       "    <tr>\n",
       "      <th>config_eps_incorrect</th>\n",
       "      <th>config_learning_rate_gb</th>\n",
       "      <th></th>\n",
       "      <th></th>\n",
       "      <th></th>\n",
       "    </tr>\n",
       "  </thead>\n",
       "  <tbody>\n",
       "    <tr>\n",
       "      <th rowspan=\"3\" valign=\"top\">0.0</th>\n",
       "      <th>0.02</th>\n",
       "      <td>79.4657</td>\n",
       "      <td>0.6138</td>\n",
       "      <td>(78.976, 79.9554)</td>\n",
       "    </tr>\n",
       "    <tr>\n",
       "      <th>0.10</th>\n",
       "      <td>79.7322</td>\n",
       "      <td>1.2455</td>\n",
       "      <td>(78.832, 80.7816)</td>\n",
       "    </tr>\n",
       "    <tr>\n",
       "      <th>0.50</th>\n",
       "      <td>79.7785</td>\n",
       "      <td>0.5472</td>\n",
       "      <td>(79.3627, 80.2105)</td>\n",
       "    </tr>\n",
       "    <tr>\n",
       "      <th rowspan=\"3\" valign=\"top\">0.1</th>\n",
       "      <th>0.02</th>\n",
       "      <td>79.5465</td>\n",
       "      <td>1.0390</td>\n",
       "      <td>(78.7213, 80.3053)</td>\n",
       "    </tr>\n",
       "    <tr>\n",
       "      <th>0.10</th>\n",
       "      <td>79.7984</td>\n",
       "      <td>0.6748</td>\n",
       "      <td>(79.2274, 80.2163)</td>\n",
       "    </tr>\n",
       "    <tr>\n",
       "      <th>0.50</th>\n",
       "      <td>79.3615</td>\n",
       "      <td>0.6846</td>\n",
       "      <td>(78.8358, 79.8923)</td>\n",
       "    </tr>\n",
       "    <tr>\n",
       "      <th rowspan=\"3\" valign=\"top\">0.2</th>\n",
       "      <th>0.02</th>\n",
       "      <td>79.4516</td>\n",
       "      <td>1.0483</td>\n",
       "      <td>(78.7786, 80.2922)</td>\n",
       "    </tr>\n",
       "    <tr>\n",
       "      <th>0.10</th>\n",
       "      <td>79.8441</td>\n",
       "      <td>1.0829</td>\n",
       "      <td>(78.9862, 80.5944)</td>\n",
       "    </tr>\n",
       "    <tr>\n",
       "      <th>0.50</th>\n",
       "      <td>79.5435</td>\n",
       "      <td>0.9113</td>\n",
       "      <td>(78.8106, 80.2635)</td>\n",
       "    </tr>\n",
       "    <tr>\n",
       "      <th rowspan=\"3\" valign=\"top\">0.3</th>\n",
       "      <th>0.02</th>\n",
       "      <td>79.1722</td>\n",
       "      <td>0.9025</td>\n",
       "      <td>(78.4719, 79.8976)</td>\n",
       "    </tr>\n",
       "    <tr>\n",
       "      <th>0.10</th>\n",
       "      <td>79.8348</td>\n",
       "      <td>0.6046</td>\n",
       "      <td>(79.2997, 80.2214)</td>\n",
       "    </tr>\n",
       "    <tr>\n",
       "      <th>0.50</th>\n",
       "      <td>79.6566</td>\n",
       "      <td>0.6866</td>\n",
       "      <td>(79.0991, 80.1853)</td>\n",
       "    </tr>\n",
       "  </tbody>\n",
       "</table>\n",
       "</div>"
      ]
     },
     "execution_count": 9,
     "metadata": {},
     "output_type": "execute_result"
    }
   ],
   "execution_count": 9
  }
 ],
 "metadata": {
  "kernelspec": {
   "display_name": "Python 3",
   "language": "python",
   "name": "python3"
  },
  "language_info": {
   "codemirror_mode": {
    "name": "ipython",
    "version": 3
   },
   "file_extension": ".py",
   "mimetype": "text/x-python",
   "name": "python",
   "nbconvert_exporter": "python",
   "pygments_lexer": "ipython3",
   "version": "3.8.8"
  },
  "colab": {
   "provenance": []
  }
 },
 "nbformat": 4,
 "nbformat_minor": 5
}
